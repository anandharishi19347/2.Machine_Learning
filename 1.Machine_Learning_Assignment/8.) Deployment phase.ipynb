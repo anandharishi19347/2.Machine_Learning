{
 "cells": [
  {
   "cell_type": "code",
   "execution_count": 1,
   "id": "0e02ca8d-c114-4577-b02b-58cfd03a71b3",
   "metadata": {},
   "outputs": [],
   "source": [
    "#view already saved file#\n",
    "import pickle"
   ]
  },
  {
   "cell_type": "code",
   "execution_count": 2,
   "id": "01f95066-4b15-40a5-8202-8f9d29366d4b",
   "metadata": {},
   "outputs": [
    {
     "name": "stderr",
     "output_type": "stream",
     "text": [
      "C:\\Users\\anandha rishi\\anaconda3\\Lib\\site-packages\\sklearn\\base.py:439: UserWarning: X does not have valid feature names, but RandomForestRegressor was fitted with feature names\n",
      "  warnings.warn(\n"
     ]
    }
   ],
   "source": [
    "#load the saved model and gets input# \n",
    "loaded_model=pickle.load(open(\"finalized_model_RandomForest.sav\",'rb'))\n",
    "result=loaded_model.predict([[1234,345,4565,1,0]])"
   ]
  },
  {
   "cell_type": "code",
   "execution_count": 3,
   "id": "86ef97ed-4dc5-4f8c-afe7-da36f6427867",
   "metadata": {},
   "outputs": [
    {
     "data": {
      "text/plain": [
       "array([54070.22])"
      ]
     },
     "execution_count": 3,
     "metadata": {},
     "output_type": "execute_result"
    }
   ],
   "source": [
    "#prediction value#\n",
    "result"
   ]
  },
  {
   "cell_type": "code",
   "execution_count": null,
   "id": "458ad567-79ff-4d28-9e29-a5625e2d98a5",
   "metadata": {},
   "outputs": [],
   "source": []
  }
 ],
 "metadata": {
  "kernelspec": {
   "display_name": "Python 3 (ipykernel)",
   "language": "python",
   "name": "python3"
  },
  "language_info": {
   "codemirror_mode": {
    "name": "ipython",
    "version": 3
   },
   "file_extension": ".py",
   "mimetype": "text/x-python",
   "name": "python",
   "nbconvert_exporter": "python",
   "pygments_lexer": "ipython3",
   "version": "3.11.7"
  }
 },
 "nbformat": 4,
 "nbformat_minor": 5
}
